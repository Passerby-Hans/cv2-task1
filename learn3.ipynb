{
 "cells": [
  {
   "cell_type": "code",
   "id": "initial_id",
   "metadata": {
    "collapsed": true,
    "ExecuteTime": {
     "end_time": "2025-03-25T01:15:24.721942Z",
     "start_time": "2025-03-25T01:15:24.719683Z"
    }
   },
   "source": [
    "import cv2\n",
    "import numpy as np"
   ],
   "outputs": [],
   "execution_count": 46
  },
  {
   "metadata": {
    "ExecuteTime": {
     "end_time": "2025-03-25T01:15:24.733739Z",
     "start_time": "2025-03-25T01:15:24.728047Z"
    }
   },
   "cell_type": "code",
   "source": [
    "img = cv2.imread(\"OpenCV-main/01_Picture/20_Box_in_scene.png\")\n",
    "img_gray = cv2.cvtColor(img, cv2.COLOR_BGR2GRAY)\n",
    "img_gray_float = np.float32(img_gray)"
   ],
   "id": "6e3e8430c96195f5",
   "outputs": [],
   "execution_count": 47
  },
  {
   "metadata": {
    "ExecuteTime": {
     "end_time": "2025-03-25T01:15:26.158390Z",
     "start_time": "2025-03-25T01:15:24.741869Z"
    }
   },
   "cell_type": "code",
   "source": [
    "dst = cv2.cornerHarris(img_gray_float, 3, 3, 0.04)\n",
    "img[dst > 0.01 * dst.max()] = [0, 0, 255] # 大于max的1% 可能是角点\n",
    "cv2.imshow(\"dst\", img)\n",
    "cv2.waitKey(0)\n",
    "cv2.destroyAllWindows()"
   ],
   "id": "8a9427b8e34454c1",
   "outputs": [],
   "execution_count": 48
  },
  {
   "metadata": {},
   "cell_type": "code",
   "outputs": [],
   "execution_count": null,
   "source": "",
   "id": "2b6712f95e2e4204"
  }
 ],
 "metadata": {
  "kernelspec": {
   "display_name": "Python 3",
   "language": "python",
   "name": "python3"
  },
  "language_info": {
   "codemirror_mode": {
    "name": "ipython",
    "version": 2
   },
   "file_extension": ".py",
   "mimetype": "text/x-python",
   "name": "python",
   "nbconvert_exporter": "python",
   "pygments_lexer": "ipython2",
   "version": "2.7.6"
  }
 },
 "nbformat": 4,
 "nbformat_minor": 5
}
