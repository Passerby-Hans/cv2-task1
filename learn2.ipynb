{
 "cells": [
  {
   "cell_type": "code",
   "id": "initial_id",
   "metadata": {
    "collapsed": true,
    "ExecuteTime": {
     "end_time": "2025-03-20T05:27:12.539720Z",
     "start_time": "2025-03-20T05:27:12.537448Z"
    }
   },
   "source": [
    "import cv2\n",
    "import numpy as np"
   ],
   "outputs": [],
   "execution_count": 108
  },
  {
   "metadata": {
    "ExecuteTime": {
     "end_time": "2025-03-20T05:27:17.337104Z",
     "start_time": "2025-03-20T05:27:12.545080Z"
    }
   },
   "cell_type": "code",
   "source": [
    "ticket = cv2.imread('./ticket/ticket.jpg')\n",
    "origin = ticket.copy()\n",
    "ticket_B, ticket_G, ticket_R = cv2.split(ticket)\n",
    "ticket_gray = cv2.cvtColor(ticket, cv2.COLOR_BGR2GRAY)\n",
    "\n",
    "# cv2.imshow('ticket_B', ticket_B)\n",
    "# cv2.imshow('ticket_G', ticket_G)\n",
    "# cv2.imshow('ticket_R', ticket_R)\n",
    "# cv2.waitKey(0)\n",
    "# cv2.destroyAllWindows()\n",
    "clahe = cv2.createCLAHE(clipLimit=200.0, tileGridSize=(2,2))\n",
    "ticket_eq = clahe.apply(ticket_B)\n",
    "ticket_gauss = cv2.GaussianBlur(ticket_eq, (5,5), 0)\n",
    "cv2.imshow('ticket_eq', ticket_eq)\n",
    "cv2.waitKey(0)\n",
    "cv2.destroyAllWindows()\n",
    "edge = cv2.Canny(ticket_gauss,threshold1=100,threshold2=250)\n",
    "cv2.imshow('edge',edge)\n",
    "cv2.waitKey(0)\n",
    "cv2.destroyAllWindows()"
   ],
   "id": "1202f012e493da54",
   "outputs": [],
   "execution_count": 109
  },
  {
   "metadata": {
    "ExecuteTime": {
     "end_time": "2025-03-20T05:27:18.555035Z",
     "start_time": "2025-03-20T05:27:17.357327Z"
    }
   },
   "cell_type": "code",
   "source": [
    "# _, ticket_threshold = cv2.threshold(ticket_gray, 127, 255, cv2.THRESH_BINARY)\n",
    "# cv2.imshow('ticket', ticket_threshold)\n",
    "# cv2.waitKey(0)\n",
    "# cv2.destroyAllWindows()\n",
    "counters_ticket, hierarchy_ticket = cv2.findContours(edge, cv2.RETR_TREE, cv2.CHAIN_APPROX_SIMPLE)\n",
    "temp = ticket.copy()\n",
    "cv2.drawContours(temp, counters_ticket, -1, (0,0,255), 1)\n",
    "cv2.imshow('ticket', temp)\n",
    "cv2.waitKey(0)\n",
    "cv2.destroyAllWindows()\n"
   ],
   "id": "2b327eebf70bc98f",
   "outputs": [],
   "execution_count": 110
  }
 ],
 "metadata": {
  "kernelspec": {
   "display_name": "Python 3",
   "language": "python",
   "name": "python3"
  },
  "language_info": {
   "codemirror_mode": {
    "name": "ipython",
    "version": 2
   },
   "file_extension": ".py",
   "mimetype": "text/x-python",
   "name": "python",
   "nbconvert_exporter": "python",
   "pygments_lexer": "ipython2",
   "version": "2.7.6"
  }
 },
 "nbformat": 4,
 "nbformat_minor": 5
}
