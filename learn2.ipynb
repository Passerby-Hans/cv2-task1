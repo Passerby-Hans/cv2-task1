{
 "cells": [
  {
   "cell_type": "code",
   "id": "initial_id",
   "metadata": {
    "collapsed": true,
    "ExecuteTime": {
     "end_time": "2025-03-24T05:14:06.111793Z",
     "start_time": "2025-03-24T05:14:06.107417Z"
    }
   },
   "source": [
    "from datetime import datetime\n",
    "\n",
    "import cv2\n",
    "import numpy as np\n",
    "from PIL import Image\n",
    "from imutils.perspective import four_point_transform\n",
    "import pytesseract\n",
    "from sipbuild.generator.parser.annotations import string\n",
    "import os"
   ],
   "outputs": [],
   "execution_count": 31
  },
  {
   "metadata": {
    "ExecuteTime": {
     "end_time": "2025-03-24T05:14:06.152653Z",
     "start_time": "2025-03-24T05:14:06.122088Z"
    }
   },
   "cell_type": "code",
   "source": [
    "ticket = cv2.imread('./ticket/ticket.jpg')\n",
    "origin = ticket.copy()\n",
    "\n",
    "ticket_gray = cv2.cvtColor(ticket, cv2.COLOR_BGR2GRAY)\n",
    "clahe = cv2.createCLAHE(clipLimit=2.0, tileGridSize=(2,2))\n",
    "gray_eq = clahe.apply(ticket_gray)\n",
    "\n",
    "_, thresh = cv2.threshold(gray_eq, 200, 255, cv2.THRESH_BINARY + cv2.THRESH_TRIANGLE)\n",
    "\n",
    "# cv2.imshow('thresh', thresh)\n",
    "# cv2.waitKey(0)\n",
    "# cv2.destroyAllWindows()\n",
    "\n",
    "kernel = np.ones((10,2), np.uint8)\n",
    "open = cv2.morphologyEx(thresh, cv2.MORPH_OPEN, kernel, iterations=6)\n",
    "# cv2.imshow('open', open)\n",
    "# cv2.waitKey(0)\n",
    "# cv2.destroyAllWindows()\n",
    "\n",
    "kernel = np.ones((2,5), np.uint8)\n",
    "open = cv2.morphologyEx(open, cv2.MORPH_OPEN, kernel, iterations=3)\n",
    "# cv2.imshow('open', open)\n",
    "# cv2.waitKey(0)\n",
    "# cv2.destroyAllWindows()\n",
    "\n",
    "contours, _ = cv2.findContours(open, cv2.RETR_TREE, cv2.CHAIN_APPROX_SIMPLE)\n",
    "temp = ticket.copy()\n",
    "# cv2.drawContours(temp, contours, -1, (0, 255, 0), 1)\n",
    "# cv2.namedWindow('temp', 0)\n",
    "# cv2.resizeWindow('temp', 800, 800)\n",
    "# cv2.imshow('temp', temp)\n",
    "# cv2.waitKey(0)\n",
    "# cv2.destroyAllWindows()\n",
    "\n",
    "contours = sorted(contours, key=cv2.contourArea, reverse=True)[:1]\n",
    "print(len(contours))\n",
    "temp2 = ticket.copy()\n",
    "# cv2.drawContours(temp2, contours, -1, (0, 255, 0), 1)\n",
    "# cv2.namedWindow('temp2', 0)\n",
    "# cv2.resizeWindow('temp2', 800, 800)\n",
    "# cv2.imshow('temp2', temp2)\n",
    "# cv2.waitKey(0)\n",
    "# cv2.destroyAllWindows()\n",
    "\n",
    "largest_contour = contours[0]\n",
    "\n",
    "epsilon = 0.02 * cv2.arcLength(largest_contour, True)  # 误差阈值\n",
    "approx = cv2.approxPolyDP(largest_contour, epsilon, True)  # 逼近曲线\n",
    "\n",
    "temp3 = ticket.copy()\n",
    "\n",
    "# 判断是否是四边形\n",
    "if len(approx) == 4:\n",
    "    print(\"找到四边形\")\n",
    "    cv2.drawContours(temp3, [approx], -1, (0, 255, 0), 2)  # 画出四边形\n",
    "else:\n",
    "    print(f\"找到 {len(approx)} 个点，不是四边形\")\n",
    "\n",
    "\n",
    "# cv2.namedWindow('Approximated Contour', 0)\n",
    "# cv2.resizeWindow('Approximated Contour', 800, 800)\n",
    "# # 显示结果\n",
    "# cv2.imshow(\"Approximated Contour\", temp3)\n",
    "# cv2.waitKey(0)\n",
    "# cv2.destroyAllWindows()\n",
    "\n"
   ],
   "id": "1202f012e493da54",
   "outputs": [
    {
     "name": "stdout",
     "output_type": "stream",
     "text": [
      "1\n",
      "找到四边形\n"
     ]
    }
   ],
   "execution_count": 32
  },
  {
   "metadata": {
    "ExecuteTime": {
     "end_time": "2025-03-24T05:14:06.178524Z",
     "start_time": "2025-03-24T05:14:06.171498Z"
    }
   },
   "cell_type": "code",
   "source": [
    "warped = four_point_transform(origin, approx.reshape(4, 2))\n",
    "# cv2.namedWindow('warped', 0)\n",
    "# cv2.resizeWindow('warped', 600, 600)\n",
    "# cv2.imshow('warped', warped)\n",
    "# cv2.waitKey(0)\n",
    "# cv2.destroyAllWindows()"
   ],
   "id": "fcb05a3ed0f0d574",
   "outputs": [],
   "execution_count": 33
  },
  {
   "metadata": {
    "ExecuteTime": {
     "end_time": "2025-03-24T05:14:06.207992Z",
     "start_time": "2025-03-24T05:14:06.205199Z"
    }
   },
   "cell_type": "code",
   "source": [
    "warped_gray = cv2.cvtColor(warped, cv2.COLOR_BGR2GRAY)\n",
    "# cv2.namedWindow('warped_gray', 0)\n",
    "# cv2.resizeWindow('warped_gray', 600, 600)\n",
    "# cv2.imshow('warped_gray', warped_gray)\n",
    "# cv2.waitKey(0)\n",
    "# cv2.destroyAllWindows()"
   ],
   "id": "44d231facf31d016",
   "outputs": [],
   "execution_count": 34
  },
  {
   "metadata": {
    "ExecuteTime": {
     "end_time": "2025-03-24T05:14:06.227185Z",
     "start_time": "2025-03-24T05:14:06.216545Z"
    }
   },
   "cell_type": "code",
   "source": [
    "\n",
    "\n",
    "filename = \"{}.png\".format(datetime.now().strftime(\"%Y%m%d-%H%M%S\") + '-' + str(os.getpid()))\n",
    "cv2.imwrite(filename, warped_gray)"
   ],
   "id": "82286cc942ad2e16",
   "outputs": [
    {
     "data": {
      "text/plain": [
       "True"
      ]
     },
     "execution_count": 35,
     "metadata": {},
     "output_type": "execute_result"
    }
   ],
   "execution_count": 35
  },
  {
   "metadata": {
    "ExecuteTime": {
     "end_time": "2025-03-24T05:14:06.734482Z",
     "start_time": "2025-03-24T05:14:06.304137Z"
    }
   },
   "cell_type": "code",
   "source": [
    "text = pytesseract.image_to_string(Image.open(filename), lang='chi_sim')\n",
    "print(text)"
   ],
   "id": "2084b136b8f3f3b6",
   "outputs": [
    {
     "name": "stdout",
     "output_type": "stream",
     "text": [
      "欢迎光临未辉超市\n",
      "福州市群众店\n",
      "\n",
      "让号、\n",
      "\n",
      "&包》 F20027 2018/01/30 12:43;59\n",
      "收银机司; 0Q232 全克 01188095\n",
      "肛员， 80021463 类型零售销\n",
      "你。 数量 单价 ”成交价\n",
      "\n",
      "商品名条\n",
      "\n",
      "支付宝\n",
      "实际扣坎 : 34.71\n",
      "1吉单号 ;\n",
      "201801301244100732118805\n",
      "\n",
      "、 客服电话 : 0591-83306166\n",
      "\n",
      "请当面请点所购商品和找零，并保管\n",
      "好收银小票以做开发票，退换货张证\n",
      "\n",
      "谢谢惠顾\n",
      "积分查询请登录www.yonghui .cn\n",
      "\n",
      "开票号 : 2018013090230Z73280021483\n",
      "1188095\n",
      "\n",
      "开票日期以开具当天为准建议您消费\n",
      "48小时内进行开据申请\n",
      "\n"
     ]
    }
   ],
   "execution_count": 36
  }
 ],
 "metadata": {
  "kernelspec": {
   "display_name": "Python 3",
   "language": "python",
   "name": "python3"
  },
  "language_info": {
   "codemirror_mode": {
    "name": "ipython",
    "version": 2
   },
   "file_extension": ".py",
   "mimetype": "text/x-python",
   "name": "python",
   "nbconvert_exporter": "python",
   "pygments_lexer": "ipython2",
   "version": "2.7.6"
  }
 },
 "nbformat": 4,
 "nbformat_minor": 5
}
