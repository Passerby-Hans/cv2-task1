{
 "cells": [
  {
   "cell_type": "code",
   "id": "initial_id",
   "metadata": {
    "collapsed": true,
    "ExecuteTime": {
     "end_time": "2025-03-20T15:08:06.161063Z",
     "start_time": "2025-03-20T15:08:06.159012Z"
    }
   },
   "source": [
    "import cv2\n",
    "import numpy as np"
   ],
   "outputs": [],
   "execution_count": 204
  },
  {
   "metadata": {
    "ExecuteTime": {
     "end_time": "2025-03-20T15:08:13.025674Z",
     "start_time": "2025-03-20T15:08:06.166466Z"
    }
   },
   "cell_type": "code",
   "source": [
    "ticket = cv2.imread('./ticket/ticket.jpg')\n",
    "origin = ticket.copy()\n",
    "\n",
    "ticket_gray = cv2.cvtColor(ticket, cv2.COLOR_BGR2GRAY)\n",
    "clahe = cv2.createCLAHE(clipLimit=2.0, tileGridSize=(2,2))\n",
    "gray_eq = clahe.apply(ticket_gray)\n",
    "\n",
    "_, thresh = cv2.threshold(gray_eq, 200, 255, cv2.THRESH_BINARY + cv2.THRESH_TRIANGLE)\n",
    "\n",
    "cv2.imshow('thresh', thresh)\n",
    "cv2.waitKey(0)\n",
    "cv2.destroyAllWindows()\n",
    "\n",
    "kernel = np.ones((10,2), np.uint8)\n",
    "open = cv2.morphologyEx(thresh, cv2.MORPH_OPEN, kernel, iterations=6)\n",
    "cv2.imshow('open', open)\n",
    "cv2.waitKey(0)\n",
    "cv2.destroyAllWindows()\n",
    "\n",
    "kernel = np.ones((2,5), np.uint8)\n",
    "open = cv2.morphologyEx(open, cv2.MORPH_OPEN, kernel, iterations=3)\n",
    "cv2.imshow('open', open)\n",
    "cv2.waitKey(0)\n",
    "cv2.destroyAllWindows()\n",
    "\n",
    "contours, _ = cv2.findContours(open, cv2.RETR_TREE, cv2.CHAIN_APPROX_SIMPLE)\n",
    "temp = ticket.copy()\n",
    "cv2.drawContours(temp, contours, -1, (0, 255, 0), 1)\n",
    "cv2.namedWindow('temp', 0)\n",
    "cv2.resizeWindow('temp', 800, 800)\n",
    "cv2.imshow('temp', temp)\n",
    "cv2.waitKey(0)\n",
    "cv2.destroyAllWindows()\n",
    "\n",
    "contours = sorted(contours, key=cv2.contourArea, reverse=True)[:1]\n",
    "print(len(contours))\n",
    "temp2 = ticket.copy()\n",
    "cv2.drawContours(temp2, contours, -1, (0, 255, 0), 1)\n",
    "cv2.namedWindow('temp2', 0)\n",
    "cv2.resizeWindow('temp2', 800, 800)\n",
    "cv2.imshow('temp2', temp2)\n",
    "cv2.waitKey(0)\n",
    "cv2.destroyAllWindows()\n",
    "\n",
    "largest_contour = contours[0]\n",
    "\n",
    "epsilon = 0.02 * cv2.arcLength(largest_contour, True)  # 误差阈值\n",
    "approx = cv2.approxPolyDP(largest_contour, epsilon, True)  # 逼近曲线\n",
    "\n",
    "temp3 = ticket.copy()\n",
    "\n",
    "# 判断是否是四边形\n",
    "if len(approx) == 4:\n",
    "    print(\"找到四边形\")\n",
    "    cv2.drawContours(temp3, [approx], -1, (0, 255, 0), 2)  # 画出四边形\n",
    "else:\n",
    "    print(f\"找到 {len(approx)} 个点，不是四边形\")\n",
    "\n",
    "\n",
    "cv2.namedWindow('Approximated Contour', 0)\n",
    "cv2.resizeWindow('Approximated Contour', 800, 800)\n",
    "# 显示结果\n",
    "cv2.imshow(\"Approximated Contour\", temp3)\n",
    "cv2.waitKey(0)\n",
    "cv2.destroyAllWindows()\n",
    "\n"
   ],
   "id": "1202f012e493da54",
   "outputs": [
    {
     "name": "stdout",
     "output_type": "stream",
     "text": [
      "1\n",
      "找到四边形\n"
     ]
    }
   ],
   "execution_count": 205
  }
 ],
 "metadata": {
  "kernelspec": {
   "display_name": "Python 3",
   "language": "python",
   "name": "python3"
  },
  "language_info": {
   "codemirror_mode": {
    "name": "ipython",
    "version": 2
   },
   "file_extension": ".py",
   "mimetype": "text/x-python",
   "name": "python",
   "nbconvert_exporter": "python",
   "pygments_lexer": "ipython2",
   "version": "2.7.6"
  }
 },
 "nbformat": 4,
 "nbformat_minor": 5
}
