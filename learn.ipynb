{
 "cells": [
  {
   "cell_type": "code",
   "id": "initial_id",
   "metadata": {
    "collapsed": true,
    "ExecuteTime": {
     "end_time": "2025-03-18T13:50:51.375979Z",
     "start_time": "2025-03-18T13:50:51.373641Z"
    }
   },
   "source": [
    "import cv2\n",
    "import numpy as np\n",
    "from anyio import sleep\n",
    "from matplotlib import pyplot as plt\n",
    "import imutils"
   ],
   "outputs": [],
   "execution_count": 83
  },
  {
   "metadata": {
    "ExecuteTime": {
     "end_time": "2025-03-18T13:50:51.406478Z",
     "start_time": "2025-03-18T13:50:51.402401Z"
    }
   },
   "cell_type": "code",
   "source": [
    "card = cv2.imread('./card/digitalCard.jpg')\n",
    "template = cv2.imread('./card/digitalTemplate.jpg')\n",
    "card = cv2.cvtColor(card, cv2.COLOR_BGR2GRAY)\n",
    "template = cv2.cvtColor(template, cv2.COLOR_BGR2GRAY)\n"
   ],
   "id": "ca7fa542a2a8fcff",
   "outputs": [],
   "execution_count": 84
  },
  {
   "metadata": {
    "ExecuteTime": {
     "end_time": "2025-03-18T13:50:51.430851Z",
     "start_time": "2025-03-18T13:50:51.428568Z"
    }
   },
   "cell_type": "code",
   "source": "_, card_t = cv2.threshold(card, 127, 255, cv2.THRESH_BINARY_INV)",
   "id": "ec1333a798f93f12",
   "outputs": [],
   "execution_count": 85
  },
  {
   "metadata": {
    "ExecuteTime": {
     "end_time": "2025-03-18T13:50:51.445767Z",
     "start_time": "2025-03-18T13:50:51.443140Z"
    }
   },
   "cell_type": "code",
   "source": "contours_c, hierarchy_c = cv2.findContours(card_t, cv2.RETR_TREE, cv2.CHAIN_APPROX_SIMPLE)\n",
   "id": "5b58a7a68de89b4",
   "outputs": [],
   "execution_count": 86
  },
  {
   "metadata": {
    "ExecuteTime": {
     "end_time": "2025-03-18T13:50:51.459324Z",
     "start_time": "2025-03-18T13:50:51.457161Z"
    }
   },
   "cell_type": "code",
   "source": [
    "_, template_t = cv2.threshold(template, 127, 255, cv2.THRESH_BINARY)\n",
    "\n",
    "contours_t, hierarchy_t = cv2.findContours(template_t, cv2.RETR_TREE, cv2.CHAIN_APPROX_SIMPLE)\n",
    "\n"
   ],
   "id": "d51aee79aad6704a",
   "outputs": [],
   "execution_count": 87
  },
  {
   "metadata": {
    "ExecuteTime": {
     "end_time": "2025-03-18T13:50:51.478143Z",
     "start_time": "2025-03-18T13:50:51.471680Z"
    }
   },
   "cell_type": "code",
   "source": [
    "filtered_contours = []\n",
    "x_min, y_min, x_max, y_max = 0, 100, 600, 250\n",
    "for cnt in contours_c:\n",
    "    area = cv2.contourArea(cnt)\n",
    "    points = cnt.reshape(-1, 2)\n",
    "    if np.all((points[:, 0] >= x_min) & (points[:, 0] <= x_max) &\n",
    "              (points[:, 1] >= y_min) & (points[:, 1] <= y_max)):\n",
    "        filtered_contours.append(cnt)\n",
    "img = cv2.imread('./card/digitalCard.jpg')\n",
    "\n",
    "print(len(filtered_contours))"
   ],
   "id": "904201ce92c1f8b",
   "outputs": [
    {
     "name": "stdout",
     "output_type": "stream",
     "text": [
      "25\n"
     ]
    }
   ],
   "execution_count": 88
  },
  {
   "metadata": {
    "ExecuteTime": {
     "end_time": "2025-03-18T13:50:51.496499Z",
     "start_time": "2025-03-18T13:50:51.490311Z"
    }
   },
   "cell_type": "code",
   "source": [
    "new_filtered_contours = []\n",
    "for cnt_in in filtered_contours:\n",
    "    points = cnt_in.reshape(-1, 2)\n",
    "    flag = False\n",
    "    points = points.tolist()\n",
    "    for cnt_out in filtered_contours:\n",
    "        for point in points:\n",
    "            if cv2.pointPolygonTest(cnt_out, point, False) > 0:\n",
    "                flag = True\n",
    "                break\n",
    "    if not flag:\n",
    "        new_filtered_contours.append(cnt_in)\n",
    "print(len(new_filtered_contours))"
   ],
   "id": "a02d825e1005a352",
   "outputs": [
    {
     "name": "stdout",
     "output_type": "stream",
     "text": [
      "16\n"
     ]
    }
   ],
   "execution_count": 89
  },
  {
   "metadata": {
    "ExecuteTime": {
     "end_time": "2025-03-18T13:50:51.511911Z",
     "start_time": "2025-03-18T13:50:51.508599Z"
    }
   },
   "cell_type": "code",
   "source": [
    "box_contours = []\n",
    "for cnt in new_filtered_contours:\n",
    "    # 计算最小外接矩形（带旋转）\n",
    "    rect = cv2.minAreaRect(cnt)\n",
    "    box = cv2.boxPoints(rect)  # 获取四个顶点坐标\n",
    "    box = np.intp(box)  # 转为整数\n",
    "    box_contours.append(box)\n",
    "\n",
    "\n",
    "print(len(box_contours))"
   ],
   "id": "7f6fa2965f435a57",
   "outputs": [
    {
     "name": "stdout",
     "output_type": "stream",
     "text": [
      "16\n"
     ]
    }
   ],
   "execution_count": 90
  },
  {
   "metadata": {
    "ExecuteTime": {
     "end_time": "2025-03-18T13:50:51.550436Z",
     "start_time": "2025-03-18T13:50:51.547342Z"
    }
   },
   "cell_type": "code",
   "source": [
    "box_contours = sorted(box_contours, key=lambda x: x[0][0])\n",
    "card_croppeds = []\n",
    "for idx, box in enumerate(box_contours):\n",
    "    # 获取矩形框的轴对齐包围盒 (x, y, w, h)\n",
    "    x, y, w, h = cv2.boundingRect(box)\n",
    "    print(box)\n",
    "    print(x)\n",
    "    # 截取子图像\n",
    "    cropped = card_t[y:y+h, x:x+w]\n",
    "    card_croppeds.append(cropped)\n",
    "    # 保存或显示\n",
    "\n",
    "    #cv2.imshow(f'Box {idx}', cropped)\n",
    "    #cv2.waitKey(0)\n",
    "#cv2.destroyAllWindows()"
   ],
   "id": "28b829eb3ae4171",
   "outputs": [
    {
     "name": "stdout",
     "output_type": "stream",
     "text": [
      "[[ 50 198]\n",
      " [ 67 198]\n",
      " [ 67 227]\n",
      " [ 50 227]]\n",
      "50\n",
      "[[ 73 227]\n",
      " [ 73 198]\n",
      " [ 93 198]\n",
      " [ 93 227]]\n",
      "73\n",
      "[[100 227]\n",
      " [100 198]\n",
      " [119 198]\n",
      " [119 227]]\n",
      "100\n",
      "[[126 227]\n",
      " [126 198]\n",
      " [145 198]\n",
      " [145 227]]\n",
      "126\n",
      "[[179 227]\n",
      " [179 198]\n",
      " [198 198]\n",
      " [198 227]]\n",
      "179\n",
      "[[205 198]\n",
      " [224 198]\n",
      " [224 227]\n",
      " [205 227]]\n",
      "205\n",
      "[[231 198]\n",
      " [250 198]\n",
      " [250 227]\n",
      " [231 227]]\n",
      "231\n",
      "[[259 198]\n",
      " [276 198]\n",
      " [276 227]\n",
      " [259 227]]\n",
      "259\n",
      "[[309 227]\n",
      " [309 198]\n",
      " [328 198]\n",
      " [328 227]]\n",
      "309\n",
      "[[335 198]\n",
      " [354 198]\n",
      " [354 227]\n",
      " [335 227]]\n",
      "335\n",
      "[[361 198]\n",
      " [380 198]\n",
      " [380 227]\n",
      " [361 227]]\n",
      "361\n",
      "[[387 227]\n",
      " [387 198]\n",
      " [406 198]\n",
      " [406 227]]\n",
      "387\n",
      "[[440 198]\n",
      " [459 198]\n",
      " [459 227]\n",
      " [440 227]]\n",
      "440\n",
      "[[466 227]\n",
      " [466 198]\n",
      " [485 198]\n",
      " [485 227]]\n",
      "466\n",
      "[[492 227]\n",
      " [492 197]\n",
      " [511 197]\n",
      " [511 227]]\n",
      "492\n",
      "[[518 227]\n",
      " [518 198]\n",
      " [537 198]\n",
      " [537 227]]\n",
      "518\n"
     ]
    }
   ],
   "execution_count": 91
  },
  {
   "metadata": {
    "ExecuteTime": {
     "end_time": "2025-03-18T13:50:51.588417Z",
     "start_time": "2025-03-18T13:50:51.587053Z"
    }
   },
   "cell_type": "code",
   "source": "",
   "id": "8de1d8620936242e",
   "outputs": [],
   "execution_count": null
  },
  {
   "metadata": {
    "ExecuteTime": {
     "end_time": "2025-03-18T13:50:51.602585Z",
     "start_time": "2025-03-18T13:50:51.600347Z"
    }
   },
   "cell_type": "code",
   "source": "print(len(contours_t))\n",
   "id": "58a6d3ee1c5879d1",
   "outputs": [
    {
     "name": "stdout",
     "output_type": "stream",
     "text": [
      "16\n"
     ]
    }
   ],
   "execution_count": 92
  },
  {
   "metadata": {
    "ExecuteTime": {
     "end_time": "2025-03-18T13:50:51.621672Z",
     "start_time": "2025-03-18T13:50:51.615919Z"
    }
   },
   "cell_type": "code",
   "source": [
    "filtered_contours_t = []\n",
    "x_min, y_min, x_max, y_max = 2, 2, 6000, 2500\n",
    "for cnt in contours_t:\n",
    "    area = cv2.contourArea(cnt)\n",
    "    points = cnt.reshape(-1, 2)\n",
    "    if np.all((points[:, 0] >= x_min) & (points[:, 0] <= x_max) &\n",
    "              (points[:, 1] >= y_min) & (points[:, 1] <= y_max)):\n",
    "        filtered_contours_t.append(cnt)\n",
    "new_filtered_contours_t = []\n",
    "for cnt_in in filtered_contours_t:\n",
    "    points = cnt_in.reshape(-1, 2)\n",
    "    flag = False\n",
    "    points = points.tolist()\n",
    "    for cnt_out in filtered_contours_t:\n",
    "        for point in points:\n",
    "            if cv2.pointPolygonTest(cnt_out, point, False) > 0:\n",
    "                flag = True\n",
    "                break\n",
    "    if not flag:\n",
    "        new_filtered_contours_t.append(cnt_in)\n",
    "print(len(new_filtered_contours_t))"
   ],
   "id": "f5abdfd8f3c270ae",
   "outputs": [
    {
     "name": "stdout",
     "output_type": "stream",
     "text": [
      "10\n"
     ]
    }
   ],
   "execution_count": 93
  },
  {
   "metadata": {
    "ExecuteTime": {
     "end_time": "2025-03-18T13:50:51.644997Z",
     "start_time": "2025-03-18T13:50:51.643219Z"
    }
   },
   "cell_type": "code",
   "source": "",
   "id": "429bd557327c002c",
   "outputs": [],
   "execution_count": null
  },
  {
   "metadata": {
    "ExecuteTime": {
     "end_time": "2025-03-18T13:50:51.683028Z",
     "start_time": "2025-03-18T13:50:51.679687Z"
    }
   },
   "cell_type": "code",
   "source": [
    "box_contours_t = []\n",
    "for cnt in new_filtered_contours_t:\n",
    "    # 计算最小外接矩形（带旋转）\n",
    "    rect = cv2.minAreaRect(cnt)\n",
    "    box = cv2.boxPoints(rect)  # 获取四个顶点坐标\n",
    "    box = np.intp(box)  # 转为整数\n",
    "    box_contours_t.append(box)\n",
    "\n",
    "\n",
    "print(len(box_contours_t))"
   ],
   "id": "16bb81e8d8932636",
   "outputs": [
    {
     "name": "stdout",
     "output_type": "stream",
     "text": [
      "10\n"
     ]
    }
   ],
   "execution_count": 94
  },
  {
   "metadata": {
    "ExecuteTime": {
     "end_time": "2025-03-18T13:50:51.700114Z",
     "start_time": "2025-03-18T13:50:51.696022Z"
    }
   },
   "cell_type": "code",
   "source": [
    "box_contours_t = sorted(box_contours_t, key=lambda x: x[0][0])\n",
    "template_croppeds = []\n",
    "for idx, box in enumerate(box_contours_t):\n",
    "    # 获取矩形框的轴对齐包围盒 (x, y, w, h)\n",
    "    x, y, w, h = cv2.boundingRect(box)\n",
    "    print(box)\n",
    "    print(x)\n",
    "    # 截取子图像\n",
    "    cropped = template_t[y:y+h, x:x+w]\n",
    "    template_croppeds.append(cropped)\n",
    "    # 保存或显示\n",
    "\n",
    "\n"
   ],
   "id": "ab6a4990c8fb43f2",
   "outputs": [
    {
     "name": "stdout",
     "output_type": "stream",
     "text": [
      "[[ 9 87]\n",
      " [ 9 10]\n",
      " [59 10]\n",
      " [59 87]]\n",
      "9\n",
      "[[ 80  87]\n",
      " [ 80  10]\n",
      " [130  10]\n",
      " [130  87]]\n",
      "80\n",
      "[[151  87]\n",
      " [151  10]\n",
      " [200  10]\n",
      " [200  87]]\n",
      "151\n",
      "[[221  87]\n",
      " [221  10]\n",
      " [271  10]\n",
      " [271  87]]\n",
      "221\n",
      "[[297  87]\n",
      " [297  10]\n",
      " [342  10]\n",
      " [342  87]]\n",
      "297\n",
      "[[363  87]\n",
      " [363  10]\n",
      " [412  10]\n",
      " [412  87]]\n",
      "363\n",
      "[[433  87]\n",
      " [433  10]\n",
      " [483  10]\n",
      " [483  87]]\n",
      "433\n",
      "[[504  87]\n",
      " [504  10]\n",
      " [554  10]\n",
      " [554  87]]\n",
      "504\n",
      "[[575  87]\n",
      " [575  10]\n",
      " [624  10]\n",
      " [624  87]]\n",
      "575\n",
      "[[645  87]\n",
      " [645  10]\n",
      " [695  10]\n",
      " [695  87]]\n",
      "645\n"
     ]
    }
   ],
   "execution_count": 95
  },
  {
   "metadata": {
    "ExecuteTime": {
     "end_time": "2025-03-18T13:50:51.785848Z",
     "start_time": "2025-03-18T13:50:51.780048Z"
    }
   },
   "cell_type": "code",
   "source": [
    "indexes = []\n",
    "for cropped in card_croppeds:\n",
    "    best_score = -1000\n",
    "    best_idx = -1\n",
    "    for idx, template_cropped in enumerate(template_croppeds):\n",
    "        template_cropped_reshape = cv2.resize(template_cropped, (cropped.shape[1], cropped.shape[0]), interpolation=cv2.INTER_AREA)\n",
    "        result = cv2.matchTemplate(cropped, template_cropped_reshape, cv2.TM_CCORR_NORMED)\n",
    "        _, max_val, _, _ = cv2.minMaxLoc(result)\n",
    "        if max_val > best_score:\n",
    "            best_score = max_val\n",
    "            best_idx = idx\n",
    "    print(best_idx)\n",
    "    indexes.append(best_idx)\n",
    "\n",
    "    "
   ],
   "id": "ecfc8c8cc41e521a",
   "outputs": [
    {
     "name": "stdout",
     "output_type": "stream",
     "text": [
      "4\n",
      "0\n",
      "0\n",
      "0\n",
      "1\n",
      "2\n",
      "3\n",
      "4\n",
      "5\n",
      "6\n",
      "7\n",
      "8\n",
      "9\n",
      "0\n",
      "1\n",
      "0\n"
     ]
    }
   ],
   "execution_count": 96
  },
  {
   "metadata": {
    "ExecuteTime": {
     "end_time": "2025-03-18T13:50:51.871010Z",
     "start_time": "2025-03-18T13:50:51.868371Z"
    }
   },
   "cell_type": "code",
   "source": "print(indexes)",
   "id": "bdff6931c698d73b",
   "outputs": [
    {
     "name": "stdout",
     "output_type": "stream",
     "text": [
      "[4, 0, 0, 0, 1, 2, 3, 4, 5, 6, 7, 8, 9, 0, 1, 0]\n"
     ]
    }
   ],
   "execution_count": 97
  }
 ],
 "metadata": {
  "kernelspec": {
   "display_name": "Python 3",
   "language": "python",
   "name": "python3"
  },
  "language_info": {
   "codemirror_mode": {
    "name": "ipython",
    "version": 2
   },
   "file_extension": ".py",
   "mimetype": "text/x-python",
   "name": "python",
   "nbconvert_exporter": "python",
   "pygments_lexer": "ipython2",
   "version": "2.7.6"
  }
 },
 "nbformat": 4,
 "nbformat_minor": 5
}
