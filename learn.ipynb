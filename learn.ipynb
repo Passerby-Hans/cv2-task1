{
 "cells": [
  {
   "cell_type": "code",
   "id": "initial_id",
   "metadata": {
    "collapsed": true,
    "ExecuteTime": {
     "end_time": "2025-03-18T07:00:28.105369Z",
     "start_time": "2025-03-18T07:00:28.103170Z"
    }
   },
   "source": [
    "import cv2\n",
    "import numpy as np\n",
    "from matplotlib import pyplot as plt\n",
    "import imutils"
   ],
   "outputs": [],
   "execution_count": 28
  },
  {
   "metadata": {
    "ExecuteTime": {
     "end_time": "2025-03-18T07:00:28.113016Z",
     "start_time": "2025-03-18T07:00:28.109709Z"
    }
   },
   "cell_type": "code",
   "source": [
    "card = cv2.imread('./card/digitalCard.jpg')\n",
    "template = cv2.imread('./card/digitalTemplate.jpg')\n",
    "card = cv2.cvtColor(card, cv2.COLOR_BGR2GRAY)\n",
    "template = cv2.cvtColor(template, cv2.COLOR_BGR2GRAY)\n"
   ],
   "id": "ca7fa542a2a8fcff",
   "outputs": [],
   "execution_count": 29
  },
  {
   "metadata": {
    "ExecuteTime": {
     "end_time": "2025-03-18T07:00:28.127584Z",
     "start_time": "2025-03-18T07:00:28.124052Z"
    }
   },
   "cell_type": "code",
   "source": "_, card_t = cv2.threshold(card, 127, 255, cv2.THRESH_BINARY_INV)",
   "id": "ec1333a798f93f12",
   "outputs": [],
   "execution_count": 30
  },
  {
   "metadata": {
    "ExecuteTime": {
     "end_time": "2025-03-18T07:00:28.142952Z",
     "start_time": "2025-03-18T07:00:28.140112Z"
    }
   },
   "cell_type": "code",
   "source": "contours_c, hierarchy_c = cv2.findContours(card_t, cv2.RETR_TREE, cv2.CHAIN_APPROX_SIMPLE)\n",
   "id": "5b58a7a68de89b4",
   "outputs": [],
   "execution_count": 31
  },
  {
   "metadata": {
    "ExecuteTime": {
     "end_time": "2025-03-18T07:00:28.156986Z",
     "start_time": "2025-03-18T07:00:28.154241Z"
    }
   },
   "cell_type": "code",
   "source": [
    "_, template_t = cv2.threshold(template, 10, 255, cv2.THRESH_BINARY)\n",
    "contours_t, hierarchy_t = cv2.findContours(template_t, cv2.RETR_TREE, cv2.CHAIN_APPROX_SIMPLE)\n",
    "\n"
   ],
   "id": "d51aee79aad6704a",
   "outputs": [],
   "execution_count": 32
  },
  {
   "metadata": {
    "ExecuteTime": {
     "end_time": "2025-03-18T07:00:28.175432Z",
     "start_time": "2025-03-18T07:00:28.169628Z"
    }
   },
   "cell_type": "code",
   "source": [
    "filtered_contours = []\n",
    "x_min, y_min, x_max, y_max = 0, 100, 600, 250\n",
    "for cnt in contours_c:\n",
    "    area = cv2.contourArea(cnt)\n",
    "    points = cnt.reshape(-1, 2)\n",
    "    if np.all((points[:, 0] >= x_min) & (points[:, 0] <= x_max) &\n",
    "              (points[:, 1] >= y_min) & (points[:, 1] <= y_max)):\n",
    "        filtered_contours.append(cnt)\n",
    "img = cv2.imread('./card/digitalCard.jpg')\n",
    "\n",
    "print(len(filtered_contours))"
   ],
   "id": "904201ce92c1f8b",
   "outputs": [
    {
     "name": "stdout",
     "output_type": "stream",
     "text": [
      "25\n"
     ]
    }
   ],
   "execution_count": 33
  },
  {
   "metadata": {
    "ExecuteTime": {
     "end_time": "2025-03-18T07:00:28.195755Z",
     "start_time": "2025-03-18T07:00:28.188723Z"
    }
   },
   "cell_type": "code",
   "source": [
    "new_filtered_contours = []\n",
    "for cnt_in in filtered_contours:\n",
    "    points = cnt_in.reshape(-1, 2)\n",
    "    flag = False\n",
    "    points = points.tolist()\n",
    "    for cnt_out in filtered_contours:\n",
    "        for point in points:\n",
    "            if cv2.pointPolygonTest(cnt_out, point, False) > 0:\n",
    "                flag = True\n",
    "                break\n",
    "    if not flag:\n",
    "        new_filtered_contours.append(cnt_in)\n",
    "print(len(new_filtered_contours))"
   ],
   "id": "a02d825e1005a352",
   "outputs": [
    {
     "name": "stdout",
     "output_type": "stream",
     "text": [
      "16\n"
     ]
    }
   ],
   "execution_count": 34
  },
  {
   "metadata": {
    "ExecuteTime": {
     "end_time": "2025-03-18T07:00:28.213479Z",
     "start_time": "2025-03-18T07:00:28.209901Z"
    }
   },
   "cell_type": "code",
   "source": [
    "box_contours = []\n",
    "for cnt in new_filtered_contours:\n",
    "    # 计算最小外接矩形（带旋转）\n",
    "    rect = cv2.minAreaRect(cnt)\n",
    "    box = cv2.boxPoints(rect)  # 获取四个顶点坐标\n",
    "    box = np.intp(box)  # 转为整数\n",
    "    box_contours.append(box)\n",
    "\n",
    "\n",
    "print(len(box_contours))"
   ],
   "id": "7f6fa2965f435a57",
   "outputs": [
    {
     "name": "stdout",
     "output_type": "stream",
     "text": [
      "16\n"
     ]
    }
   ],
   "execution_count": 35
  },
  {
   "metadata": {
    "ExecuteTime": {
     "end_time": "2025-03-18T07:00:40.746120Z",
     "start_time": "2025-03-18T07:00:28.302473Z"
    }
   },
   "cell_type": "code",
   "source": [
    "sorted(box_contours, key=lambda x: x[0][0])\n",
    "card_croppeds = []\n",
    "for idx, box in enumerate(box_contours):\n",
    "    # 获取矩形框的轴对齐包围盒 (x, y, w, h)\n",
    "    x, y, w, h = cv2.boundingRect(box)\n",
    "    print(box)\n",
    "    print(x)\n",
    "    # 截取子图像\n",
    "    cropped = card_t[y:y+h, x:x+w]\n",
    "    card_croppeds.append(cropped)\n",
    "    # 保存或显示\n",
    "    cv2.imwrite(f'cropped_{idx}.jpg', cropped)\n",
    "    cv2.imshow(f'Box {idx}', cropped)\n",
    "    cv2.waitKey(0)\n",
    "cv2.destroyAllWindows()"
   ],
   "id": "28b829eb3ae4171",
   "outputs": [
    {
     "name": "stdout",
     "output_type": "stream",
     "text": [
      "[[518 227]\n",
      " [518 198]\n",
      " [537 198]\n",
      " [537 227]]\n",
      "518\n",
      "[[466 227]\n",
      " [466 198]\n",
      " [485 198]\n",
      " [485 227]]\n",
      "466\n",
      "[[440 198]\n",
      " [459 198]\n",
      " [459 227]\n",
      " [440 227]]\n",
      "440\n",
      "[[387 227]\n",
      " [387 198]\n",
      " [406 198]\n",
      " [406 227]]\n",
      "387\n",
      "[[361 198]\n",
      " [380 198]\n",
      " [380 227]\n",
      " [361 227]]\n",
      "361\n",
      "[[335 198]\n",
      " [354 198]\n",
      " [354 227]\n",
      " [335 227]]\n",
      "335\n",
      "[[309 227]\n",
      " [309 198]\n",
      " [328 198]\n",
      " [328 227]]\n",
      "309\n",
      "[[259 198]\n",
      " [276 198]\n",
      " [276 227]\n",
      " [259 227]]\n",
      "259\n",
      "[[231 198]\n",
      " [250 198]\n",
      " [250 227]\n",
      " [231 227]]\n",
      "231\n",
      "[[205 198]\n",
      " [224 198]\n",
      " [224 227]\n",
      " [205 227]]\n",
      "205\n",
      "[[179 227]\n",
      " [179 198]\n",
      " [198 198]\n",
      " [198 227]]\n",
      "179\n",
      "[[126 227]\n",
      " [126 198]\n",
      " [145 198]\n",
      " [145 227]]\n",
      "126\n",
      "[[100 227]\n",
      " [100 198]\n",
      " [119 198]\n",
      " [119 227]]\n",
      "100\n",
      "[[ 73 227]\n",
      " [ 73 198]\n",
      " [ 93 198]\n",
      " [ 93 227]]\n",
      "73\n",
      "[[ 50 198]\n",
      " [ 67 198]\n",
      " [ 67 227]\n",
      " [ 50 227]]\n",
      "50\n",
      "[[492 227]\n",
      " [492 197]\n",
      " [511 197]\n",
      " [511 227]]\n",
      "492\n"
     ]
    }
   ],
   "execution_count": 36
  },
  {
   "metadata": {
    "ExecuteTime": {
     "end_time": "2025-03-18T07:00:40.772348Z",
     "start_time": "2025-03-18T07:00:40.769844Z"
    }
   },
   "cell_type": "code",
   "source": "",
   "id": "f5abdfd8f3c270ae",
   "outputs": [],
   "execution_count": null
  }
 ],
 "metadata": {
  "kernelspec": {
   "display_name": "Python 3",
   "language": "python",
   "name": "python3"
  },
  "language_info": {
   "codemirror_mode": {
    "name": "ipython",
    "version": 2
   },
   "file_extension": ".py",
   "mimetype": "text/x-python",
   "name": "python",
   "nbconvert_exporter": "python",
   "pygments_lexer": "ipython2",
   "version": "2.7.6"
  }
 },
 "nbformat": 4,
 "nbformat_minor": 5
}
